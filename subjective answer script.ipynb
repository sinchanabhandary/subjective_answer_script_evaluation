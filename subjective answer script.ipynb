{
 "cells": [
  {
   "cell_type": "code",
   "execution_count": 1,
   "id": "a338de50",
   "metadata": {},
   "outputs": [],
   "source": [
    "import tkinter as tk\n",
    "from tkinter import messagebox, filedialog\n",
    "from nltk.corpus import stopwords\n",
    "from nltk.tokenize import word_tokenize\n",
    "from nltk.stem import WordNetLemmatizer\n",
    "from sklearn.feature_extraction.text import TfidfVectorizer\n",
    "from sklearn.metrics.pairwise import cosine_similarity"
   ]
  },
  {
   "cell_type": "code",
   "execution_count": 2,
   "id": "a5d3b181",
   "metadata": {},
   "outputs": [
    {
     "data": {
      "text/plain": [
       "''"
      ]
     },
     "execution_count": 2,
     "metadata": {},
     "output_type": "execute_result"
    }
   ],
   "source": [
    "# Create GUI window\n",
    "window = tk.Tk()\n",
    "window.title(\"Subjective Answer Script Analysis\")\n",
    "window.geometry(\"1000x1000\")"
   ]
  },
  {
   "cell_type": "code",
   "execution_count": 3,
   "id": "cd42e8ae",
   "metadata": {},
   "outputs": [],
   "source": [
    "# Styling the GUI window\n",
    "window.configure(bg=\"lightgray\")"
   ]
  },
  {
   "cell_type": "code",
   "execution_count": 4,
   "id": "30eb2f62",
   "metadata": {},
   "outputs": [],
   "source": [
    "# Global variables\n",
    "question = \"\"\n",
    "teacher_answer = \"\""
   ]
  },
  {
   "cell_type": "code",
   "execution_count": 5,
   "id": "29d88ae0",
   "metadata": {},
   "outputs": [],
   "source": [
    "# Functions\n",
    "def browse_teacher_answer():\n",
    "    file_path = filedialog.askopenfilename(filetypes=[(\"Text Files\", \"*.txt\")])\n",
    "    if file_path:\n",
    "        with open(file_path, 'r') as file:\n",
    "            teacher_answer_entry.delete(\"1.0\", tk.END)\n",
    "            teacher_answer_entry.insert(tk.END, file.read())"
   ]
  },
  {
   "cell_type": "code",
   "execution_count": 6,
   "id": "03cb98db",
   "metadata": {},
   "outputs": [],
   "source": [
    "def submit_question_answer():\n",
    "    global question, teacher_answer\n",
    "    question = question_entry.get(\"1.0\", tk.END).lower()\n",
    "    teacher_answer = teacher_answer_entry.get(\"1.0\", tk.END).lower()\n",
    "    messagebox.showinfo(\"Submission\", \"Question and Answer submitted successfully!\")\n",
    "    student_question_label.config(text=\"Question: \" + question)"
   ]
  },
  {
   "cell_type": "code",
   "execution_count": 7,
   "id": "4d5e316e",
   "metadata": {},
   "outputs": [],
   "source": [
    "def browse_student_answer():\n",
    "    file_path = filedialog.askopenfilename(filetypes=[(\"Text Files\", \"*.txt\")])\n",
    "    if file_path:\n",
    "        with open(file_path, 'r') as file:\n",
    "            student_answer_entry.delete(\"1.0\", tk.END)\n",
    "            student_answer_entry.insert(tk.END, file.read())\n"
   ]
  },
  {
   "cell_type": "code",
   "execution_count": 10,
   "id": "358efe9f",
   "metadata": {},
   "outputs": [],
   "source": [
    "def submit_student_answer():\n",
    "    student_answer = student_answer_entry.get(\"1.0\", tk.END).lower()\n",
    "\n",
    "    # Preprocess teacher and student answers\n",
    "    lemmatizer = WordNetLemmatizer()\n",
    "    teacher_answer_processed = ' '.join([lemmatizer.lemmatize(word) for word in word_tokenize(teacher_answer) if word not in stopwords.words('english')])\n",
    "    student_answer_processed = ' '.join([lemmatizer.lemmatize(word) for word in word_tokenize(student_answer) if word not in stopwords.words('english')])\n",
    "\n",
    "    # Compute similarity between teacher and student answers\n",
    "    tfidf_vectorizer = TfidfVectorizer()\n",
    "    tfidf_features = tfidf_vectorizer.fit_transform([teacher_answer_processed, student_answer_processed])\n",
    "    similarity = cosine_similarity(tfidf_features[0], tfidf_features[1])[0][0]\n",
    "\n",
    "    # Display similarity\n",
    "    messagebox.showinfo(\"Similarity\", f\"Similarity between answers: {similarity:.2f}\")\n"
   ]
  },
  {
   "cell_type": "code",
   "execution_count": 11,
   "id": "1d5ffb83",
   "metadata": {},
   "outputs": [],
   "source": [
    " # Create label and entry for question\n",
    "question_label = tk.Label(window, text=\"Enter Question:\", bg=\"lightgray\", font=(\"Arial\", 14))\n",
    "question_label.pack()\n",
    "\n",
    "question_entry = tk.Text(window, width=60, height=2, font=(\"Arial\", 12))  # Use tk.Text for multi-line text\n",
    "question_entry.pack()"
   ]
  },
  {
   "cell_type": "code",
   "execution_count": 12,
   "id": "5f7de0a7",
   "metadata": {},
   "outputs": [],
   "source": [
    "\n",
    "# Create label and entry for teacher's answer\n",
    "teacher_answer_label = tk.Label(window, text=\"Teacher's Answer:\", bg=\"lightgray\", font=(\"Arial\", 14))\n",
    "teacher_answer_label.pack()\n",
    "\n",
    "teacher_answer_entry = tk.Text(window, width=100, height=10, font=(\"Arial\", 12))  # Use tk.Text for multi-line text\n",
    "teacher_answer_entry.pack()"
   ]
  },
  {
   "cell_type": "code",
   "execution_count": 13,
   "id": "bb6ba166",
   "metadata": {},
   "outputs": [],
   "source": [
    "# Create button to browse teacher's answer\n",
    "browse_teacher_answer_button = tk.Button(window, text=\"Browse\", command=browse_teacher_answer, bg=\"blue\", fg=\"white\", font=(\"Arial\", 12))\n",
    "browse_teacher_answer_button.pack(padx=10, pady=10)"
   ]
  },
  {
   "cell_type": "code",
   "execution_count": 14,
   "id": "2371ed66",
   "metadata": {},
   "outputs": [],
   "source": [
    "# Create submit button for question and answer\n",
    "submit_button = tk.Button(window, text=\"Submit\", command=submit_question_answer, bg=\"green\", fg=\"white\", font=(\"Arial\", 12))\n",
    "submit_button.pack()"
   ]
  },
  {
   "cell_type": "code",
   "execution_count": 15,
   "id": "c347c964",
   "metadata": {},
   "outputs": [],
   "source": [
    "# Create label for student's question\n",
    "student_question_label = tk.Label(window, text=\"Question: \", bg=\"lightgray\", font=(\"Arial\", 14))\n",
    "student_question_label.pack()"
   ]
  },
  {
   "cell_type": "code",
   "execution_count": 16,
   "id": "546edf82",
   "metadata": {},
   "outputs": [],
   "source": [
    "# Create label and entry for student's answer\n",
    "student_answer_label = tk.Label(window, text=\"Student's Answer:\", bg=\"lightgray\", font=(\"Arial\", 14))\n",
    "student_answer_label.pack()"
   ]
  },
  {
   "cell_type": "code",
   "execution_count": 17,
   "id": "1b31883b",
   "metadata": {},
   "outputs": [],
   "source": [
    "\n",
    "student_answer_entry = tk.Text(window, width=100, height=10, font=(\"Arial\", 12))  # Use tk.Text for multi-line text\n",
    "student_answer_entry.pack()"
   ]
  },
  {
   "cell_type": "code",
   "execution_count": 18,
   "id": "308a16d8",
   "metadata": {},
   "outputs": [],
   "source": [
    "#Create button to browse student's answer\n",
    "browse_student_answer_button = tk.Button(window, text=\"Browse\", command=browse_student_answer, bg=\"blue\", fg=\"white\", font=(\"Arial\", 12))\n",
    "browse_student_answer_button.pack(padx=10, pady=10)"
   ]
  },
  {
   "cell_type": "code",
   "execution_count": 19,
   "id": "f15f3ede",
   "metadata": {},
   "outputs": [],
   "source": [
    "# Create submit button for student's answer\n",
    "submit_student_button = tk.Button(window, text=\"Submit\", command=submit_student_answer, bg=\"green\", fg=\"white\", font=(\"Arial\", 12))\n",
    "submit_student_button.pack(padx=10, pady=10)"
   ]
  },
  {
   "cell_type": "code",
   "execution_count": 20,
   "id": "89103b17",
   "metadata": {},
   "outputs": [],
   "source": [
    "# Run the GUI main loop\n",
    "window.mainloop()"
   ]
  },
  {
   "cell_type": "code",
   "execution_count": null,
   "id": "701507aa",
   "metadata": {},
   "outputs": [],
   "source": []
  }
 ],
 "metadata": {
  "kernelspec": {
   "display_name": "Python 3 (ipykernel)",
   "language": "python",
   "name": "python3"
  },
  "language_info": {
   "codemirror_mode": {
    "name": "ipython",
    "version": 3
   },
   "file_extension": ".py",
   "mimetype": "text/x-python",
   "name": "python",
   "nbconvert_exporter": "python",
   "pygments_lexer": "ipython3",
   "version": "3.9.7"
  }
 },
 "nbformat": 4,
 "nbformat_minor": 5
}
